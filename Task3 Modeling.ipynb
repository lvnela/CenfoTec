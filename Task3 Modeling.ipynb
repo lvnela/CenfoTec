{
 "cells": [
  {
   "cell_type": "code",
   "execution_count": 105,
   "metadata": {},
   "outputs": [],
   "source": [
    "import numpy as np\n",
    "import pandas as pd\n",
    "import scipy\n",
    "from math import sqrt\n",
    "import matplotlib.pyplot as plt"
   ]
  },
  {
   "cell_type": "code",
   "execution_count": 106,
   "metadata": {},
   "outputs": [],
   "source": [
    "#estimator\n",
    "from sklearn.ensemble import RandomForestClassifier\n",
    "from sklearn.svm import SVC\n",
    "from sklearn.ensemble import GradientBoostingClassifier"
   ]
  },
  {
   "cell_type": "code",
   "execution_count": 107,
   "metadata": {},
   "outputs": [],
   "source": [
    "#model metrics\n",
    "from sklearn.metrics import accuracy_score\n",
    "from sklearn.metrics import precision_score\n",
    "from sklearn.metrics import recall_score\n",
    "from sklearn.model_selection import cross_val_score"
   ]
  },
  {
   "cell_type": "code",
   "execution_count": 108,
   "metadata": {},
   "outputs": [],
   "source": [
    "#cross validation\n",
    "from sklearn.model_selection import train_test_split\n",
    "from sklearn.model_selection import StratifiedKFold\n"
   ]
  },
  {
   "cell_type": "code",
   "execution_count": 109,
   "metadata": {},
   "outputs": [],
   "source": [
    "#Carga los datos. Antes de iniciar a cargar los datos renombramos las columnas que tienen espacios en blanco.\n",
    "rawdata = pd.read_csv(r\"C:\\Users\\mlizano\\Documents\\Curso MICITT - BigData & Analytics\\parte V\\Tarea2\\default of credit card clients.csv\", header =1)"
   ]
  },
  {
   "cell_type": "code",
   "execution_count": 110,
   "metadata": {},
   "outputs": [
    {
     "data": {
      "text/html": [
       "<div>\n",
       "<style scoped>\n",
       "    .dataframe tbody tr th:only-of-type {\n",
       "        vertical-align: middle;\n",
       "    }\n",
       "\n",
       "    .dataframe tbody tr th {\n",
       "        vertical-align: top;\n",
       "    }\n",
       "\n",
       "    .dataframe thead th {\n",
       "        text-align: right;\n",
       "    }\n",
       "</style>\n",
       "<table border=\"1\" class=\"dataframe\">\n",
       "  <thead>\n",
       "    <tr style=\"text-align: right;\">\n",
       "      <th></th>\n",
       "      <th>ID</th>\n",
       "      <th>LIMIT_BAL</th>\n",
       "      <th>SEX</th>\n",
       "      <th>EDUCATION</th>\n",
       "      <th>MARRIAGE</th>\n",
       "      <th>AGE</th>\n",
       "      <th>PAY_0</th>\n",
       "      <th>PAY_2</th>\n",
       "      <th>PAY_3</th>\n",
       "      <th>PAY_4</th>\n",
       "      <th>...</th>\n",
       "      <th>BILL_AMT4</th>\n",
       "      <th>BILL_AMT5</th>\n",
       "      <th>BILL_AMT6</th>\n",
       "      <th>PAY_AMT1</th>\n",
       "      <th>PAY_AMT2</th>\n",
       "      <th>PAY_AMT3</th>\n",
       "      <th>PAY_AMT4</th>\n",
       "      <th>PAY_AMT5</th>\n",
       "      <th>PAY_AMT6</th>\n",
       "      <th>default_payment_next_month</th>\n",
       "    </tr>\n",
       "  </thead>\n",
       "  <tbody>\n",
       "    <tr>\n",
       "      <td>0</td>\n",
       "      <td>1</td>\n",
       "      <td>20000</td>\n",
       "      <td>2</td>\n",
       "      <td>2</td>\n",
       "      <td>1</td>\n",
       "      <td>24</td>\n",
       "      <td>2</td>\n",
       "      <td>2</td>\n",
       "      <td>-1</td>\n",
       "      <td>-1</td>\n",
       "      <td>...</td>\n",
       "      <td>0</td>\n",
       "      <td>0</td>\n",
       "      <td>0</td>\n",
       "      <td>0</td>\n",
       "      <td>689</td>\n",
       "      <td>0</td>\n",
       "      <td>0</td>\n",
       "      <td>0</td>\n",
       "      <td>0</td>\n",
       "      <td>1</td>\n",
       "    </tr>\n",
       "    <tr>\n",
       "      <td>1</td>\n",
       "      <td>2</td>\n",
       "      <td>120000</td>\n",
       "      <td>2</td>\n",
       "      <td>2</td>\n",
       "      <td>2</td>\n",
       "      <td>26</td>\n",
       "      <td>-1</td>\n",
       "      <td>2</td>\n",
       "      <td>0</td>\n",
       "      <td>0</td>\n",
       "      <td>...</td>\n",
       "      <td>3272</td>\n",
       "      <td>3455</td>\n",
       "      <td>3261</td>\n",
       "      <td>0</td>\n",
       "      <td>1000</td>\n",
       "      <td>1000</td>\n",
       "      <td>1000</td>\n",
       "      <td>0</td>\n",
       "      <td>2000</td>\n",
       "      <td>1</td>\n",
       "    </tr>\n",
       "    <tr>\n",
       "      <td>2</td>\n",
       "      <td>3</td>\n",
       "      <td>90000</td>\n",
       "      <td>2</td>\n",
       "      <td>2</td>\n",
       "      <td>2</td>\n",
       "      <td>34</td>\n",
       "      <td>0</td>\n",
       "      <td>0</td>\n",
       "      <td>0</td>\n",
       "      <td>0</td>\n",
       "      <td>...</td>\n",
       "      <td>14331</td>\n",
       "      <td>14948</td>\n",
       "      <td>15549</td>\n",
       "      <td>1518</td>\n",
       "      <td>1500</td>\n",
       "      <td>1000</td>\n",
       "      <td>1000</td>\n",
       "      <td>1000</td>\n",
       "      <td>5000</td>\n",
       "      <td>0</td>\n",
       "    </tr>\n",
       "    <tr>\n",
       "      <td>3</td>\n",
       "      <td>4</td>\n",
       "      <td>50000</td>\n",
       "      <td>2</td>\n",
       "      <td>2</td>\n",
       "      <td>1</td>\n",
       "      <td>37</td>\n",
       "      <td>0</td>\n",
       "      <td>0</td>\n",
       "      <td>0</td>\n",
       "      <td>0</td>\n",
       "      <td>...</td>\n",
       "      <td>28314</td>\n",
       "      <td>28959</td>\n",
       "      <td>29547</td>\n",
       "      <td>2000</td>\n",
       "      <td>2019</td>\n",
       "      <td>1200</td>\n",
       "      <td>1100</td>\n",
       "      <td>1069</td>\n",
       "      <td>1000</td>\n",
       "      <td>0</td>\n",
       "    </tr>\n",
       "    <tr>\n",
       "      <td>4</td>\n",
       "      <td>5</td>\n",
       "      <td>50000</td>\n",
       "      <td>1</td>\n",
       "      <td>2</td>\n",
       "      <td>1</td>\n",
       "      <td>57</td>\n",
       "      <td>-1</td>\n",
       "      <td>0</td>\n",
       "      <td>-1</td>\n",
       "      <td>0</td>\n",
       "      <td>...</td>\n",
       "      <td>20940</td>\n",
       "      <td>19146</td>\n",
       "      <td>19131</td>\n",
       "      <td>2000</td>\n",
       "      <td>36681</td>\n",
       "      <td>10000</td>\n",
       "      <td>9000</td>\n",
       "      <td>689</td>\n",
       "      <td>679</td>\n",
       "      <td>0</td>\n",
       "    </tr>\n",
       "  </tbody>\n",
       "</table>\n",
       "<p>5 rows × 25 columns</p>\n",
       "</div>"
      ],
      "text/plain": [
       "   ID  LIMIT_BAL  SEX  EDUCATION  MARRIAGE  AGE  PAY_0  PAY_2  PAY_3  PAY_4  \\\n",
       "0   1      20000    2          2         1   24      2      2     -1     -1   \n",
       "1   2     120000    2          2         2   26     -1      2      0      0   \n",
       "2   3      90000    2          2         2   34      0      0      0      0   \n",
       "3   4      50000    2          2         1   37      0      0      0      0   \n",
       "4   5      50000    1          2         1   57     -1      0     -1      0   \n",
       "\n",
       "   ...  BILL_AMT4  BILL_AMT5  BILL_AMT6  PAY_AMT1  PAY_AMT2  PAY_AMT3  \\\n",
       "0  ...          0          0          0         0       689         0   \n",
       "1  ...       3272       3455       3261         0      1000      1000   \n",
       "2  ...      14331      14948      15549      1518      1500      1000   \n",
       "3  ...      28314      28959      29547      2000      2019      1200   \n",
       "4  ...      20940      19146      19131      2000     36681     10000   \n",
       "\n",
       "   PAY_AMT4  PAY_AMT5  PAY_AMT6  default_payment_next_month  \n",
       "0         0         0         0                           1  \n",
       "1      1000         0      2000                           1  \n",
       "2      1000      1000      5000                           0  \n",
       "3      1100      1069      1000                           0  \n",
       "4      9000       689       679                           0  \n",
       "\n",
       "[5 rows x 25 columns]"
      ]
     },
     "execution_count": 110,
     "metadata": {},
     "output_type": "execute_result"
    }
   ],
   "source": [
    "rawdata.head()"
   ]
  },
  {
   "cell_type": "code",
   "execution_count": 111,
   "metadata": {},
   "outputs": [
    {
     "name": "stdout",
     "output_type": "stream",
     "text": [
      "<class 'pandas.core.frame.DataFrame'>\n",
      "RangeIndex: 30000 entries, 0 to 29999\n",
      "Data columns (total 25 columns):\n",
      "ID                            30000 non-null int64\n",
      "LIMIT_BAL                     30000 non-null int64\n",
      "SEX                           30000 non-null int64\n",
      "EDUCATION                     30000 non-null int64\n",
      "MARRIAGE                      30000 non-null int64\n",
      "AGE                           30000 non-null int64\n",
      "PAY_0                         30000 non-null int64\n",
      "PAY_2                         30000 non-null int64\n",
      "PAY_3                         30000 non-null int64\n",
      "PAY_4                         30000 non-null int64\n",
      "PAY_5                         30000 non-null int64\n",
      "PAY_6                         30000 non-null int64\n",
      "BILL_AMT1                     30000 non-null int64\n",
      "BILL_AMT2                     30000 non-null int64\n",
      "BILL_AMT3                     30000 non-null int64\n",
      "BILL_AMT4                     30000 non-null int64\n",
      "BILL_AMT5                     30000 non-null int64\n",
      "BILL_AMT6                     30000 non-null int64\n",
      "PAY_AMT1                      30000 non-null int64\n",
      "PAY_AMT2                      30000 non-null int64\n",
      "PAY_AMT3                      30000 non-null int64\n",
      "PAY_AMT4                      30000 non-null int64\n",
      "PAY_AMT5                      30000 non-null int64\n",
      "PAY_AMT6                      30000 non-null int64\n",
      "default_payment_next_month    30000 non-null int64\n",
      "dtypes: int64(25)\n",
      "memory usage: 5.7 MB\n"
     ]
    }
   ],
   "source": [
    "##PReprocesar la data\n",
    "rawdata.info()\n"
   ]
  },
  {
   "cell_type": "code",
   "execution_count": 112,
   "metadata": {},
   "outputs": [],
   "source": [
    "#datos que no necesitamos\n",
    "del rawdata['ID']"
   ]
  },
  {
   "cell_type": "code",
   "execution_count": 113,
   "metadata": {},
   "outputs": [
    {
     "name": "stdout",
     "output_type": "stream",
     "text": [
      "El data set contiene columnas de los siguientes tipos: \n",
      "LIMIT_BAL                     int64\n",
      "SEX                           int64\n",
      "EDUCATION                     int64\n",
      "MARRIAGE                      int64\n",
      "AGE                           int64\n",
      "PAY_0                         int64\n",
      "PAY_2                         int64\n",
      "PAY_3                         int64\n",
      "PAY_4                         int64\n",
      "PAY_5                         int64\n",
      "PAY_6                         int64\n",
      "BILL_AMT1                     int64\n",
      "BILL_AMT2                     int64\n",
      "BILL_AMT3                     int64\n",
      "BILL_AMT4                     int64\n",
      "BILL_AMT5                     int64\n",
      "BILL_AMT6                     int64\n",
      "PAY_AMT1                      int64\n",
      "PAY_AMT2                      int64\n",
      "PAY_AMT3                      int64\n",
      "PAY_AMT4                      int64\n",
      "PAY_AMT5                      int64\n",
      "PAY_AMT6                      int64\n",
      "default_payment_next_month    int64\n",
      "dtype: object\n"
     ]
    }
   ],
   "source": [
    "print(\"El data set contiene columnas de los siguientes tipos: \\n\" +str(rawdata.dtypes))"
   ]
  },
  {
   "cell_type": "code",
   "execution_count": 114,
   "metadata": {},
   "outputs": [
    {
     "name": "stdout",
     "output_type": "stream",
     "text": [
      "<class 'pandas.core.frame.DataFrame'>\n",
      "RangeIndex: 30000 entries, 0 to 29999\n",
      "Data columns (total 24 columns):\n",
      "LIMIT_BAL                     30000 non-null int64\n",
      "SEX                           30000 non-null int64\n",
      "EDUCATION                     30000 non-null int64\n",
      "MARRIAGE                      30000 non-null int64\n",
      "AGE                           30000 non-null int64\n",
      "PAY_0                         30000 non-null int64\n",
      "PAY_2                         30000 non-null int64\n",
      "PAY_3                         30000 non-null int64\n",
      "PAY_4                         30000 non-null int64\n",
      "PAY_5                         30000 non-null int64\n",
      "PAY_6                         30000 non-null int64\n",
      "BILL_AMT1                     30000 non-null int64\n",
      "BILL_AMT2                     30000 non-null int64\n",
      "BILL_AMT3                     30000 non-null int64\n",
      "BILL_AMT4                     30000 non-null int64\n",
      "BILL_AMT5                     30000 non-null int64\n",
      "BILL_AMT6                     30000 non-null int64\n",
      "PAY_AMT1                      30000 non-null int64\n",
      "PAY_AMT2                      30000 non-null int64\n",
      "PAY_AMT3                      30000 non-null int64\n",
      "PAY_AMT4                      30000 non-null int64\n",
      "PAY_AMT5                      30000 non-null int64\n",
      "PAY_AMT6                      30000 non-null int64\n",
      "default_payment_next_month    30000 non-null int64\n",
      "dtypes: int64(24)\n",
      "memory usage: 5.5 MB\n",
      "El data set contiene los siguientes registros por columna e indica si tiene valores nulos: \n",
      " None\n"
     ]
    }
   ],
   "source": [
    "print(\"El data set contiene los siguientes registros por columna e indica si tiene valores nulos: \\n \" +str(rawdata.info()))"
   ]
  },
  {
   "cell_type": "code",
   "execution_count": 115,
   "metadata": {},
   "outputs": [],
   "source": [
    "#Cambiamos el nombre de la variable por uno más corto\n",
    "rawdata = rawdata.rename(columns={'default_payment_next_month': 'Default_Payment'})"
   ]
  },
  {
   "cell_type": "code",
   "execution_count": 116,
   "metadata": {},
   "outputs": [
    {
     "name": "stdout",
     "output_type": "stream",
     "text": [
      "Index(['LIMIT_BAL', 'SEX', 'EDUCATION', 'MARRIAGE', 'AGE', 'PAY_0', 'PAY_2',\n",
      "       'PAY_3', 'PAY_4', 'PAY_5', 'PAY_6', 'BILL_AMT1', 'BILL_AMT2',\n",
      "       'BILL_AMT3', 'BILL_AMT4', 'BILL_AMT5', 'BILL_AMT6', 'PAY_AMT1',\n",
      "       'PAY_AMT2', 'PAY_AMT3', 'PAY_AMT4', 'PAY_AMT5', 'PAY_AMT6',\n",
      "       'Default_Payment'],\n",
      "      dtype='object')\n"
     ]
    }
   ],
   "source": [
    "header = rawdata.dtypes.index\n",
    "print(header)"
   ]
  },
  {
   "cell_type": "code",
   "execution_count": 145,
   "metadata": {},
   "outputs": [],
   "source": [
    "features = rawdata.iloc[:,0:18]"
   ]
  },
  {
   "cell_type": "code",
   "execution_count": 146,
   "metadata": {},
   "outputs": [],
   "source": [
    "#dependent variable\n",
    "depVar = rawdata['Default_Payment']"
   ]
  },
  {
   "cell_type": "code",
   "execution_count": 127,
   "metadata": {},
   "outputs": [],
   "source": [
    "# Load libraries\n",
    "from pandas import read_csv\n",
    "from pandas.plotting import scatter_matrix\n",
    "from matplotlib import pyplot\n",
    "from sklearn.model_selection import train_test_split\n",
    "from sklearn.model_selection import cross_val_score\n",
    "from sklearn.model_selection import StratifiedKFold\n",
    "from sklearn.metrics import classification_report\n",
    "from sklearn.metrics import confusion_matrix\n",
    "from sklearn.metrics import accuracy_score\n",
    "from sklearn.linear_model import LogisticRegression\n",
    "from sklearn.tree import DecisionTreeClassifier\n",
    "from sklearn.neighbors import KNeighborsClassifier\n",
    "from sklearn.discriminant_analysis import LinearDiscriminantAnalysis\n",
    "from sklearn.naive_bayes import GaussianNB\n",
    "from sklearn.svm import SVC"
   ]
  },
  {
   "cell_type": "code",
   "execution_count": 185,
   "metadata": {},
   "outputs": [],
   "source": [
    "# Dividimos el conjunto de datos de validación y entrenamiento\n",
    "test_size = 0.30\n",
    "seed = 1106\n",
    "X_train, X_validation, Y_train, Y_validation = train_test_split(features, depVar, test_size=test_size, random_state=seed, shuffle=True)"
   ]
  },
  {
   "cell_type": "code",
   "execution_count": 188,
   "metadata": {},
   "outputs": [],
   "source": [
    "#Construir los modelos\n",
    "#utilizaremos 10-fold cross validation para estimar la precisión del modelo.\n",
    "\n",
    "# Algoritmos de comprobación\n",
    "models = []\n",
    "models.append(('RF', RandomForestClassifier(bootstrap=True, max_depth=10, \n",
    "                                 n_estimators=10, n_jobs=10)))\n",
    "models.append(('GBM',GradientBoostingClassifier(max_depth=4, n_estimators=100,\n",
    "                           verbose=1)))\n",
    "models.append(('SVM', SVC(C=1.0, cache_size=400, degree=5,\n",
    "    verbose=True)))"
   ]
  },
  {
   "cell_type": "code",
   "execution_count": 189,
   "metadata": {},
   "outputs": [
    {
     "name": "stdout",
     "output_type": "stream",
     "text": [
      "RF: 0.816952 (0.006565)\n",
      "      Iter       Train Loss   Remaining Time \n",
      "         1           1.0120            6.02s\n",
      "         2           0.9834            5.62s\n",
      "         3           0.9612            5.42s\n",
      "         4           0.9437            5.34s\n",
      "         5           0.9286            5.23s\n",
      "         6           0.9168            5.16s\n",
      "         7           0.9064            5.08s\n",
      "         8           0.8983            5.01s\n",
      "         9           0.8904            4.95s\n",
      "        10           0.8840            4.89s\n",
      "        20           0.8510            4.29s\n",
      "        30           0.8365            3.76s\n",
      "        40           0.8268            3.22s\n",
      "        50           0.8191            2.68s\n",
      "        60           0.8131            2.14s\n",
      "        70           0.8073            1.61s\n",
      "        80           0.8019            1.07s\n",
      "        90           0.7972            0.54s\n",
      "       100           0.7928            0.00s\n",
      "      Iter       Train Loss   Remaining Time \n",
      "         1           1.0108            5.23s\n",
      "         2           0.9815            5.23s\n",
      "         3           0.9591            5.19s\n",
      "         4           0.9412            5.15s\n",
      "         5           0.9265            5.10s\n",
      "         6           0.9147            5.05s\n",
      "         7           0.9042            5.00s\n",
      "         8           0.8960            4.99s\n",
      "         9           0.8885            4.95s\n",
      "        10           0.8823            4.91s\n",
      "        20           0.8489            4.45s\n",
      "        30           0.8333            3.86s\n",
      "        40           0.8244            3.29s\n",
      "        50           0.8162            2.73s\n",
      "        60           0.8094            2.18s\n",
      "        70           0.8038            1.64s\n",
      "        80           0.7985            1.09s\n",
      "        90           0.7941            0.54s\n",
      "       100           0.7891            0.00s\n",
      "      Iter       Train Loss   Remaining Time \n",
      "         1           1.0117            5.33s\n",
      "         2           0.9828            5.28s\n",
      "         3           0.9606            5.29s\n",
      "         4           0.9427            5.24s\n",
      "         5           0.9283            5.17s\n",
      "         6           0.9160            5.11s\n",
      "         7           0.9058            5.04s\n",
      "         8           0.8977            5.01s\n",
      "         9           0.8897            4.96s\n",
      "        10           0.8828            4.88s\n",
      "        20           0.8497            4.44s\n",
      "        30           0.8346            3.83s\n",
      "        40           0.8242            3.27s\n",
      "        50           0.8169            2.72s\n",
      "        60           0.8101            2.17s\n",
      "        70           0.8046            1.63s\n",
      "        80           0.7990            1.08s\n",
      "        90           0.7940            0.54s\n",
      "       100           0.7894            0.00s\n",
      "      Iter       Train Loss   Remaining Time \n",
      "         1           1.0114            5.23s\n",
      "         2           0.9825            5.18s\n",
      "         3           0.9603            5.16s\n",
      "         4           0.9425            5.17s\n",
      "         5           0.9274            5.12s\n",
      "         6           0.9156            5.06s\n",
      "         7           0.9052            4.99s\n",
      "         8           0.8966            4.99s\n",
      "         9           0.8885            4.93s\n",
      "        10           0.8819            4.87s\n",
      "        20           0.8488            4.28s\n",
      "        30           0.8355            3.74s\n",
      "        40           0.8253            3.20s\n",
      "        50           0.8182            2.67s\n",
      "        60           0.8113            2.14s\n",
      "        70           0.8061            1.60s\n",
      "        80           0.8004            1.07s\n",
      "        90           0.7949            0.53s\n",
      "       100           0.7909            0.00s\n",
      "      Iter       Train Loss   Remaining Time \n",
      "         1           1.0118            5.23s\n",
      "         2           0.9832            5.57s\n",
      "         3           0.9608            5.53s\n",
      "         4           0.9432            5.52s\n",
      "         5           0.9289            5.45s\n",
      "         6           0.9168            5.35s\n",
      "         7           0.9070            5.27s\n",
      "         8           0.8986            5.20s\n",
      "         9           0.8906            5.13s\n",
      "        10           0.8840            5.07s\n",
      "        20           0.8504            4.46s\n",
      "        30           0.8359            3.85s\n",
      "        40           0.8253            3.28s\n",
      "        50           0.8180            2.73s\n",
      "        60           0.8128            2.18s\n",
      "        70           0.8061            1.63s\n",
      "        80           0.8007            1.09s\n",
      "        90           0.7962            0.54s\n",
      "       100           0.7913            0.00s\n",
      "      Iter       Train Loss   Remaining Time \n",
      "         1           1.0111            5.34s\n",
      "         2           0.9821            5.27s\n",
      "         3           0.9597            5.20s\n",
      "         4           0.9415            5.31s\n",
      "         5           0.9272            5.22s\n",
      "         6           0.9155            5.15s\n",
      "         7           0.9048            5.08s\n",
      "         8           0.8956            5.03s\n",
      "         9           0.8879            4.98s\n",
      "        10           0.8816            4.90s\n",
      "        20           0.8491            4.32s\n",
      "        30           0.8338            3.76s\n",
      "        40           0.8243            3.21s\n",
      "        50           0.8157            2.68s\n",
      "        60           0.8100            2.14s\n",
      "        70           0.8049            1.61s\n",
      "        80           0.8000            1.08s\n",
      "        90           0.7944            0.54s\n",
      "       100           0.7887            0.00s\n",
      "      Iter       Train Loss   Remaining Time \n",
      "         1           1.0114            5.33s\n",
      "         2           0.9827            5.43s\n",
      "         3           0.9606            5.32s\n",
      "         4           0.9427            5.41s\n",
      "         5           0.9283            5.29s\n",
      "         6           0.9166            5.20s\n",
      "         7           0.9061            5.13s\n",
      "         8           0.8973            5.07s\n",
      "         9           0.8894            4.99s\n",
      "        10           0.8829            4.93s\n",
      "        20           0.8497            4.32s\n",
      "        30           0.8350            3.75s\n",
      "        40           0.8241            3.21s\n",
      "        50           0.8163            2.68s\n",
      "        60           0.8104            2.14s\n",
      "        70           0.8041            1.61s\n",
      "        80           0.7994            1.07s\n",
      "        90           0.7940            0.54s\n",
      "       100           0.7889            0.00s\n",
      "      Iter       Train Loss   Remaining Time \n",
      "         1           1.0114            5.63s\n",
      "         2           0.9822            5.52s\n",
      "         3           0.9598            5.51s\n",
      "         4           0.9420            5.60s\n",
      "         5           0.9278            5.50s\n",
      "         6           0.9160            5.40s\n",
      "         7           0.9060            5.31s\n",
      "         8           0.8972            5.25s\n",
      "         9           0.8897            5.16s\n",
      "        10           0.8828            5.09s\n",
      "        20           0.8500            4.43s\n",
      "        30           0.8349            3.83s\n",
      "        40           0.8257            3.27s\n",
      "        50           0.8170            2.72s\n",
      "        60           0.8104            2.18s\n",
      "        70           0.8046            1.64s\n",
      "        80           0.7989            1.09s\n",
      "        90           0.7937            0.55s\n",
      "       100           0.7874            0.00s\n",
      "      Iter       Train Loss   Remaining Time \n",
      "         1           1.0121            5.83s\n",
      "         2           0.9836            5.52s\n",
      "         3           0.9615            5.39s\n",
      "         4           0.9440            5.41s\n",
      "         5           0.9300            5.36s\n",
      "         6           0.9187            5.28s\n",
      "         7           0.9084            5.19s\n",
      "         8           0.9004            5.15s\n",
      "         9           0.8931            5.10s\n",
      "        10           0.8864            5.04s\n",
      "        20           0.8540            4.44s\n",
      "        30           0.8401            3.87s\n",
      "        40           0.8290            3.31s\n",
      "        50           0.8219            2.75s\n",
      "        60           0.8160            2.20s\n",
      "        70           0.8114            1.65s\n",
      "        80           0.8056            1.10s\n",
      "        90           0.8002            0.55s\n",
      "       100           0.7948            0.00s\n",
      "      Iter       Train Loss   Remaining Time \n",
      "         1           1.0119            5.43s\n",
      "         2           0.9832            5.28s\n",
      "         3           0.9610            5.26s\n",
      "         4           0.9435            5.19s\n",
      "         5           0.9291            5.17s\n",
      "         6           0.9173            5.14s\n",
      "         7           0.9077            5.11s\n",
      "         8           0.8986            5.06s\n",
      "         9           0.8910            5.02s\n",
      "        10           0.8847            4.97s\n",
      "        20           0.8527            4.39s\n",
      "        30           0.8376            3.83s\n",
      "        40           0.8280            3.28s\n",
      "        50           0.8193            2.74s\n",
      "        60           0.8128            2.19s\n",
      "        70           0.8076            1.64s\n",
      "        80           0.8026            1.10s\n",
      "        90           0.7977            0.55s\n",
      "       100           0.7918            0.00s\n",
      "GBM: 0.820524 (0.004964)\n",
      "[LibSVM][LibSVM][LibSVM][LibSVM][LibSVM][LibSVM][LibSVM][LibSVM][LibSVM][LibSVM]SVM: 0.781190 (0.000238)\n"
     ]
    }
   ],
   "source": [
    "#Evaluación de Modelos\n",
    "results = []\n",
    "names = []\n",
    "for name, model in models:\n",
    "\tkfold = StratifiedKFold(n_splits=10, random_state=seed, shuffle=True)\n",
    "\tcv_results = cross_val_score(model, X_train, Y_train, cv=kfold, scoring='accuracy')\n",
    "\tresults.append(cv_results)\n",
    "\tnames.append(name)\n",
    "\tprint('%s: %f (%f)' % (name, cv_results.mean(), cv_results.std()))"
   ]
  },
  {
   "cell_type": "code",
   "execution_count": 190,
   "metadata": {},
   "outputs": [
    {
     "data": {
      "image/png": "[encoded data removed]",
      "text/plain": [
       "<Figure size 432x288 with 1 Axes>"
      ]
     },
     "metadata": {
      "needs_background": "light"
     },
     "output_type": "display_data"
    }
   ],
   "source": [
    "#comparar algoritmos\n",
    "pyplot.boxplot(results, labels=names)\n",
    "pyplot.title('Comparación de algoritmos')\n",
    "pyplot.show()"
   ]
  },
  {
   "cell_type": "code",
   "execution_count": 191,
   "metadata": {},
   "outputs": [],
   "source": [
    "#Hacer predicciones sobre el conjunto de datos de validación\n",
    "model = GradientBoostingClassifier()\n",
    "clf= model.fit(X_train, Y_train)\n",
    "predictions =cfl.predict(X_validation)"
   ]
  },
  {
   "cell_type": "code",
   "execution_count": 192,
   "metadata": {},
   "outputs": [
    {
     "name": "stdout",
     "output_type": "stream",
     "text": [
      "0.8201111111111111\n"
     ]
    }
   ],
   "source": [
    "#Evalución de predicción\n",
    "print(accuracy_score(Y_validation, predictions))"
   ]
  },
  {
   "cell_type": "code",
   "execution_count": 193,
   "metadata": {},
   "outputs": [
    {
     "name": "stdout",
     "output_type": "stream",
     "text": [
      "Model Score 0.82 \n",
      "\n"
     ]
    }
   ],
   "source": [
    "model_score = clf.score(X_validation, Y_validation)\n",
    "print (\"Model Score %.2f \\n\" % (model_score))\n"
   ]
  },
  {
   "cell_type": "code",
   "execution_count": 194,
   "metadata": {},
   "outputs": [
    {
     "name": "stdout",
     "output_type": "stream",
     "text": [
      "              precision    recall  f1-score   support\n",
      "\n",
      " Not Default       0.84      0.95      0.89      6959\n",
      "     Default       0.70      0.36      0.48      2041\n",
      "\n",
      "    accuracy                           0.82      9000\n",
      "   macro avg       0.77      0.66      0.68      9000\n",
      "weighted avg       0.81      0.82      0.80      9000\n",
      "\n"
     ]
    }
   ],
   "source": [
    "print(classification_report(Y_validation, predictions, target_names=['Not Default', 'Default']))"
   ]
  },
  {
   "cell_type": "code",
   "execution_count": 195,
   "metadata": {},
   "outputs": [
    {
     "name": "stdout",
     "output_type": "stream",
     "text": [
      "Confusion Matrix  [[6641  318]\n",
      " [1301  740]]\n",
      "          Predicted\n",
      "         |  0  |  1  |\n",
      "         |-----|-----|\n",
      "       0 | 6641 | 318 |\n",
      "Actual   |-----|-----|\n",
      "       1 | 1301 | 740 |\n",
      "         |-----|-----|\n"
     ]
    }
   ],
   "source": [
    "from sklearn import metrics\n",
    "confusion_matrix = metrics.confusion_matrix(Y_validation, predictions)\n",
    "print (\"Confusion Matrix \", confusion_matrix)\n",
    "\n",
    "print (\"          Predicted\")\n",
    "print (\"         |  0  |  1  |\")\n",
    "print (\"         |-----|-----|\")\n",
    "print (\"       0 | %3d | %3d |\" % (confusion_matrix[0, 0],\n",
    "                                   confusion_matrix[0, 1]))\n",
    "print (\"Actual   |-----|-----|\")\n",
    "print (\"       1 | %3d | %3d |\" % (confusion_matrix[1, 0],\n",
    "                                   confusion_matrix[1, 1]))\n",
    "print (\"         |-----|-----|\")\n"
   ]
  },
  {
   "cell_type": "code",
   "execution_count": 196,
   "metadata": {},
   "outputs": [
    {
     "name": "stdout",
     "output_type": "stream",
     "text": [
      "Exactitud: 0.820\n",
      "Precision: 0.699\n",
      "Sensibilidad: 0.363\n"
     ]
    }
   ],
   "source": [
    "exactitud = accuracy_score(Y_validation, predictions)\n",
    "precision = precision_score(Y_validation, predictions)\n",
    "sensibilidad = recall_score(Y_validation, predictions)\n",
    "\n",
    "print('Exactitud: %.3f' % exactitud)\n",
    "print('Precision: %.3f' % precision)\n",
    "print('Sensibilidad: %.3f' % sensibilidad)"
   ]
  },
  {
   "cell_type": "code",
   "execution_count": null,
   "metadata": {},
   "outputs": [],
   "source": []
  }
 ],
 "metadata": {
  "kernelspec": {
   "display_name": "Python 3",
   "language": "python",
   "name": "python3"
  },
  "language_info": {
   "codemirror_mode": {
    "name": "ipython",
    "version": 3
   },
   "file_extension": ".py",
   "mimetype": "text/x-python",
   "name": "python",
   "nbconvert_exporter": "python",
   "pygments_lexer": "ipython3",
   "version": "3.7.4"
  }
 },
 "nbformat": 4,
 "nbformat_minor": 2
}
